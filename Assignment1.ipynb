{
  "nbformat": 4,
  "nbformat_minor": 0,
  "metadata": {
    "colab": {
      "provenance": []
    },
    "kernelspec": {
      "name": "python3",
      "display_name": "Python 3"
    },
    "language_info": {
      "name": "python"
    }
  },
  "cells": [
    {
      "cell_type": "markdown",
      "source": [
        "#assignment 1\n"
      ],
      "metadata": {
        "id": "55viclYuJp1Y"
      }
    },
    {
      "cell_type": "markdown",
      "source": [
        "1.Explain the key features of python that make it a popular choice for programming.\n",
        "  - Python has a simple syntax similar to English.\n",
        "  - Python code is executed line-by-line,which makes debugging easier.\n",
        "  - No need to declare variable types.\n",
        "  - Python has a rich set of libraries like NumPy, Pandas and Matplotlib.\n",
        "  - Python is free and supported by a large community.\n",
        "  - Python code can run on different platforms wihout modification.\n",
        "  - Supports classes and objects.\n",
        "\n",
        "2.Describe the role of predefined keywords in Python and provide examples of how they are used in a program.\n",
        "\n",
        " - Predefined keywords are reserved words that have special meaning in Python and cannot be used as identifiers.\n",
        " - Examples: if, else, elif, while, for, def, return, True, False, class, import\n",
        " - Usage: if x > 0:\n",
        "    print(\"Positive number\")\n",
        "else:\n",
        "    print(\"Non-positive number\")\n",
        "\n",
        "3.Compare and contrast mutable and immutable objects in Python with examples.\n",
        "\n",
        " - Mutable: Can be changed after creation.\n",
        "\n",
        "   Examples: list, dict, set\n",
        "\n",
        " - my_list = [1, 2, 3]\n",
        "\n",
        "   my_list[0] = 100\n",
        "\n",
        "   print(my_list)  # [100, 2, 3]\n",
        "\n",
        " - Immutable: Cannot be changed after creation.\n",
        "\n",
        "   Examples: int, float, str, tuple\n",
        "\n",
        "   my_str = \"hello\"\n",
        "    # my_str[0] = 'H'  → This will raise an error\n",
        "\n",
        "4.Discuss the different types of operators in Python and provide examples of how they are used.\n",
        "\n",
        " - Arithmetic Operators: +, -, *, /, //, %, **\n",
        "   \n",
        "   5 + 3  # 8\n",
        " - Comparison Operators: ==, !=, >, <, >=, <=\n",
        "\n",
        "  5 > 3  # True\n",
        " - Logical Operators: and, or, not\n",
        "\n",
        "\n",
        "   True and False  # False\n",
        " - Assignment Operators: =, +=, -=, *=, /=\n",
        "\n",
        "\n",
        "   x = 5\n",
        "   x += 2  # x is now 7\n",
        " - Bitwise Operators: &, |, ^, ~, <<, >>\n",
        "\n",
        " -  Membership Operators: in, not in\n",
        "\n",
        " -  Identity Operators: is, is not\n",
        "\n",
        "5.Explain the concept of type casting in Python with examples.\n",
        "\n",
        " - Type casting is converting one data type to\n",
        "   another.\n",
        "\n",
        "   Examples:\n",
        "   x = \"10\"\n",
        "\n",
        "   y = int(x)  # y is now 10 (int)\n",
        "\n",
        "   z = float(\"3.14\")  # z is 3.14 (float)\n",
        "\n",
        "   a = str(100)  # a is \"100\" (str)\n",
        "\n",
        "6.How do conditional statements work in Python? Illustrate with examples.\n",
        "\n",
        "  - Conditional statements execute blocks of code based on certain conditions.\n",
        "\n",
        "    Example:\n",
        "\n",
        "    x = 10\n",
        "    \n",
        "    if x > 0:\n",
        "    \n",
        "          print(\"Positive\")\n",
        "    \n",
        "    elif x == 0:\n",
        "    \n",
        "          print(\"Zero\")\n",
        "    \n",
        "    else:\n",
        "          print(\"Negative\")\n",
        "\n",
        "7.Describe the different types of loops in Python and their use cases with examples.\n",
        "\n",
        " - for loop: Iterates over a sequence.\n",
        "  \n",
        "  for i in range(5):\n",
        "   \n",
        "    print(i)\n",
        "\n",
        " - while loop: Runs as long as a condition is true.\n",
        "\n",
        "\n",
        "     i = 0\n",
        "     while i < 5:\n",
        "     print(i)\n",
        "     i += 1\n",
        "\n",
        "  - Use Cases: Repeating tasks, iterating over lists, automating processes."
      ],
      "metadata": {
        "id": "mLDKjMkqJwY_"
      }
    },
    {
      "cell_type": "code",
      "execution_count": null,
      "metadata": {
        "id": "4xSM0Zk9JXTB"
      },
      "outputs": [],
      "source": []
    },
    {
      "cell_type": "markdown",
      "source": [],
      "metadata": {
        "id": "dh5b6qcmJn0R"
      }
    }
  ]
}